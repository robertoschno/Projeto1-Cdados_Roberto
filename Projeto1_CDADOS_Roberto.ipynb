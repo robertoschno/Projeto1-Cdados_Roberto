{
 "cells": [
  {
   "cell_type": "markdown",
   "metadata": {},
   "source": [
    "# Projeto 1 - Ciência dos Dados"
   ]
  },
  {
   "cell_type": "markdown",
   "metadata": {},
   "source": [
    "Nome: Roberto Schnorrenberg"
   ]
  },
  {
   "cell_type": "markdown",
   "metadata": {},
   "source": [
    "## Pergunta (s) a ser respondida"
   ]
  },
  {
   "cell_type": "markdown",
   "metadata": {},
   "source": [
    "Os países que se integraram ao OCDE (Organização para Cooperação e Desenvolvimento Econômico) aumentaram o número de bilionários e dimínuiram o número de suicídios em suas províncias relacionados aos países de fora do bloco?"
   ]
  },
  {
   "cell_type": "markdown",
   "metadata": {},
   "source": [
    "## Explicação da hipótese e mecanismo"
   ]
  },
  {
   "cell_type": "markdown",
   "metadata": {},
   "source": [
    "Atualmente a OCDE é uma organização internacional com o objetivo de fomentar e incentivar ações de desenvolvimento econômico de seus países, além de medidas que visem à ampliação de metas para o equilíbrio econômico mundial e melhorem as condições de vida e os índices de renda e emprego.\n",
    "\n",
    "Portanto, com a diminuição do desemprego e a melhora das condições de vida em geral há uma hipótese de que o número de bilionários aumente e o número de suicídos diminua nos países participantes do bloco.\n",
    "\n",
    "Diante disso, os dados de renda nacional líquida per capita e o índice de desemprego serão observados para propor uma correlação ao número de bilionários e suicídios de países de dentro e fora do bloco no ano de 2005, explicitando, se houver, alguma diferença entre os dados dos integrantes e não integrantes da organização internacional. Já que é comum imaginar que um país com  melhores condições de vida e um pequeno índice de desemprego acaba gerando uma diminuição no número de suicídios ou no aumento de bilionários do país. Logo, esse projeto tem como função esclarecer a relação desses dados.\n",
    "\n",
    "Como referência para transpor tal hipótese segue os estudos dos sites: \n",
    "- https://www.bbc.com/portuguese/geral-48890430(https://www.insper.edu.br/biblioteca-telles/recursos-de-busca/)\n",
    "- https://academic.oup.com/icc/article/22/1/313/885637 \n",
    "- http://econtent.hogrefe.com/doi/pdf/10.1027/0227-5910.26.3.104"
   ]
  },
  {
   "cell_type": "markdown",
   "metadata": {},
   "source": [
    "## Bases de dados usadas"
   ]
  },
  {
   "cell_type": "markdown",
   "metadata": {},
   "source": [
    "link para o site de download das bases de dados = https://www.gapminder.org/data/ \n",
    "\n",
    "Foram coletados os seguintes dados:\n",
    "\n",
    "- Renda nacional líquida ajustada per capita\n",
    "- Ìndice de desemprego de indivíduos acima de 15 anos\n",
    "- Índice de bilionários\n",
    "- Número de suicídios\n",
    "\n"
   ]
  },
  {
   "cell_type": "markdown",
   "metadata": {},
   "source": [
    "# Arquivos e índices necessários"
   ]
  },
  {
   "cell_type": "code",
   "execution_count": 334,
   "metadata": {},
   "outputs": [],
   "source": [
    "%matplotlib inline\n",
    "import pandas as pd\n",
    "import numpy as np\n",
    "import math as math\n",
    "from scipy import stats\n",
    "import matplotlib.pyplot as plt\n",
    "import seaborn as sns\n",
    "import matplotlib\n",
    "matplotlib.style.use('ggplot')"
   ]
  },
  {
   "cell_type": "code",
   "execution_count": 335,
   "metadata": {},
   "outputs": [],
   "source": [
    "renda=pd.read_excel('renda_certa.xlsx')\n",
    "desemprego=pd.read_excel('aged_15plus_unemployment_rate_percent.xlsx')\n",
    "bilionarios=pd.read_excel('dollar_billionaires.xlsx')\n",
    "suicidios=pd.read_excel('suicidio.xlsx')"
   ]
  },
  {
   "cell_type": "markdown",
   "metadata": {},
   "source": [
    "# Renda\n",
    "\n",
    "Os dados em questão representam a renda dos países em 2005."
   ]
  },
  {
   "cell_type": "code",
   "execution_count": 336,
   "metadata": {},
   "outputs": [
    {
     "data": {
      "text/html": [
       "<div>\n",
       "<style scoped>\n",
       "    .dataframe tbody tr th:only-of-type {\n",
       "        vertical-align: middle;\n",
       "    }\n",
       "\n",
       "    .dataframe tbody tr th {\n",
       "        vertical-align: top;\n",
       "    }\n",
       "\n",
       "    .dataframe thead th {\n",
       "        text-align: right;\n",
       "    }\n",
       "</style>\n",
       "<table border=\"1\" class=\"dataframe\">\n",
       "  <thead>\n",
       "    <tr style=\"text-align: right;\">\n",
       "      <th></th>\n",
       "      <th>country</th>\n",
       "      <th>2005</th>\n",
       "    </tr>\n",
       "  </thead>\n",
       "  <tbody>\n",
       "    <tr>\n",
       "      <th>0</th>\n",
       "      <td>Afghanistan</td>\n",
       "      <td>NaN</td>\n",
       "    </tr>\n",
       "    <tr>\n",
       "      <th>1</th>\n",
       "      <td>Albania</td>\n",
       "      <td>2500.0</td>\n",
       "    </tr>\n",
       "    <tr>\n",
       "      <th>2</th>\n",
       "      <td>Algeria</td>\n",
       "      <td>2060.0</td>\n",
       "    </tr>\n",
       "    <tr>\n",
       "      <th>3</th>\n",
       "      <td>Angola</td>\n",
       "      <td>564.0</td>\n",
       "    </tr>\n",
       "    <tr>\n",
       "      <th>4</th>\n",
       "      <td>Argentina</td>\n",
       "      <td>3790.0</td>\n",
       "    </tr>\n",
       "  </tbody>\n",
       "</table>\n",
       "</div>"
      ],
      "text/plain": [
       "       country    2005\n",
       "0  Afghanistan     NaN\n",
       "1      Albania  2500.0\n",
       "2      Algeria  2060.0\n",
       "3       Angola   564.0\n",
       "4    Argentina  3790.0"
      ]
     },
     "execution_count": 336,
     "metadata": {},
     "output_type": "execute_result"
    }
   ],
   "source": [
    "renda_2005 = renda.loc[:, [\"country\", 2005]]\n",
    "renda_2005.head()"
   ]
  },
  {
   "cell_type": "markdown",
   "metadata": {},
   "source": [
    "# Desemprego\n",
    "\n",
    "Os dados em questão representam o índice de desemprego dos países em 2005."
   ]
  },
  {
   "cell_type": "code",
   "execution_count": 337,
   "metadata": {},
   "outputs": [
    {
     "data": {
      "text/html": [
       "<div>\n",
       "<style scoped>\n",
       "    .dataframe tbody tr th:only-of-type {\n",
       "        vertical-align: middle;\n",
       "    }\n",
       "\n",
       "    .dataframe tbody tr th {\n",
       "        vertical-align: top;\n",
       "    }\n",
       "\n",
       "    .dataframe thead th {\n",
       "        text-align: right;\n",
       "    }\n",
       "</style>\n",
       "<table border=\"1\" class=\"dataframe\">\n",
       "  <thead>\n",
       "    <tr style=\"text-align: right;\">\n",
       "      <th></th>\n",
       "      <th>country</th>\n",
       "      <th>2005</th>\n",
       "    </tr>\n",
       "  </thead>\n",
       "  <tbody>\n",
       "    <tr>\n",
       "      <th>0</th>\n",
       "      <td>Afghanistan</td>\n",
       "      <td>NaN</td>\n",
       "    </tr>\n",
       "    <tr>\n",
       "      <th>1</th>\n",
       "      <td>Albania</td>\n",
       "      <td>NaN</td>\n",
       "    </tr>\n",
       "    <tr>\n",
       "      <th>2</th>\n",
       "      <td>Algeria</td>\n",
       "      <td>15.3</td>\n",
       "    </tr>\n",
       "    <tr>\n",
       "      <th>3</th>\n",
       "      <td>Angola</td>\n",
       "      <td>NaN</td>\n",
       "    </tr>\n",
       "    <tr>\n",
       "      <th>4</th>\n",
       "      <td>Antigua and Barbuda</td>\n",
       "      <td>NaN</td>\n",
       "    </tr>\n",
       "  </tbody>\n",
       "</table>\n",
       "</div>"
      ],
      "text/plain": [
       "               country  2005\n",
       "0          Afghanistan   NaN\n",
       "1              Albania   NaN\n",
       "2              Algeria  15.3\n",
       "3               Angola   NaN\n",
       "4  Antigua and Barbuda   NaN"
      ]
     },
     "execution_count": 337,
     "metadata": {},
     "output_type": "execute_result"
    }
   ],
   "source": [
    "desemprego_2005 = desemprego.loc[:,['country', 2005]]\n",
    "desemprego_2005.head()"
   ]
  },
  {
   "cell_type": "markdown",
   "metadata": {},
   "source": [
    "# Bilionários \n",
    "\n",
    "Os dados em questão representam o índice de bilionários dos países em 2005."
   ]
  },
  {
   "cell_type": "code",
   "execution_count": 338,
   "metadata": {},
   "outputs": [
    {
     "data": {
      "text/html": [
       "<div>\n",
       "<style scoped>\n",
       "    .dataframe tbody tr th:only-of-type {\n",
       "        vertical-align: middle;\n",
       "    }\n",
       "\n",
       "    .dataframe tbody tr th {\n",
       "        vertical-align: top;\n",
       "    }\n",
       "\n",
       "    .dataframe thead th {\n",
       "        text-align: right;\n",
       "    }\n",
       "</style>\n",
       "<table border=\"1\" class=\"dataframe\">\n",
       "  <thead>\n",
       "    <tr style=\"text-align: right;\">\n",
       "      <th></th>\n",
       "      <th>country</th>\n",
       "      <th>2005</th>\n",
       "    </tr>\n",
       "  </thead>\n",
       "  <tbody>\n",
       "    <tr>\n",
       "      <th>0</th>\n",
       "      <td>Afghanistan</td>\n",
       "      <td>0.0</td>\n",
       "    </tr>\n",
       "    <tr>\n",
       "      <th>1</th>\n",
       "      <td>Albania</td>\n",
       "      <td>0.0</td>\n",
       "    </tr>\n",
       "    <tr>\n",
       "      <th>2</th>\n",
       "      <td>Algeria</td>\n",
       "      <td>0.0</td>\n",
       "    </tr>\n",
       "    <tr>\n",
       "      <th>3</th>\n",
       "      <td>Andorra</td>\n",
       "      <td>0.0</td>\n",
       "    </tr>\n",
       "    <tr>\n",
       "      <th>4</th>\n",
       "      <td>Angola</td>\n",
       "      <td>0.0</td>\n",
       "    </tr>\n",
       "  </tbody>\n",
       "</table>\n",
       "</div>"
      ],
      "text/plain": [
       "       country  2005\n",
       "0  Afghanistan   0.0\n",
       "1      Albania   0.0\n",
       "2      Algeria   0.0\n",
       "3      Andorra   0.0\n",
       "4       Angola   0.0"
      ]
     },
     "execution_count": 338,
     "metadata": {},
     "output_type": "execute_result"
    }
   ],
   "source": [
    "bilionarios_2005 = bilionarios.loc[:,['country', 2005]] \n",
    "bilionarios_2005.head()"
   ]
  },
  {
   "cell_type": "markdown",
   "metadata": {},
   "source": [
    "# Suicídios\n",
    "\n",
    "Os dados em questão representam o número de suicídios dos países em 2005."
   ]
  },
  {
   "cell_type": "code",
   "execution_count": 339,
   "metadata": {},
   "outputs": [
    {
     "data": {
      "text/html": [
       "<div>\n",
       "<style scoped>\n",
       "    .dataframe tbody tr th:only-of-type {\n",
       "        vertical-align: middle;\n",
       "    }\n",
       "\n",
       "    .dataframe tbody tr th {\n",
       "        vertical-align: top;\n",
       "    }\n",
       "\n",
       "    .dataframe thead th {\n",
       "        text-align: right;\n",
       "    }\n",
       "</style>\n",
       "<table border=\"1\" class=\"dataframe\">\n",
       "  <thead>\n",
       "    <tr style=\"text-align: right;\">\n",
       "      <th></th>\n",
       "      <th>country</th>\n",
       "      <th>2005</th>\n",
       "    </tr>\n",
       "  </thead>\n",
       "  <tbody>\n",
       "    <tr>\n",
       "      <th>0</th>\n",
       "      <td>Afghanistan</td>\n",
       "      <td>1600.00</td>\n",
       "    </tr>\n",
       "    <tr>\n",
       "      <th>1</th>\n",
       "      <td>Albania</td>\n",
       "      <td>204.00</td>\n",
       "    </tr>\n",
       "    <tr>\n",
       "      <th>2</th>\n",
       "      <td>Algeria</td>\n",
       "      <td>1210.00</td>\n",
       "    </tr>\n",
       "    <tr>\n",
       "      <th>3</th>\n",
       "      <td>Andorra</td>\n",
       "      <td>7.04</td>\n",
       "    </tr>\n",
       "    <tr>\n",
       "      <th>4</th>\n",
       "      <td>Angola</td>\n",
       "      <td>980.00</td>\n",
       "    </tr>\n",
       "  </tbody>\n",
       "</table>\n",
       "</div>"
      ],
      "text/plain": [
       "       country     2005\n",
       "0  Afghanistan  1600.00\n",
       "1      Albania   204.00\n",
       "2      Algeria  1210.00\n",
       "3      Andorra     7.04\n",
       "4       Angola   980.00"
      ]
     },
     "execution_count": 339,
     "metadata": {},
     "output_type": "execute_result"
    }
   ],
   "source": [
    "suicidios_2005 = suicidios.loc[:,['country', 2005]]\n",
    "suicidios_2005.head()"
   ]
  },
  {
   "cell_type": "markdown",
   "metadata": {},
   "source": [
    "# Join\n",
    "\n",
    "Unindo os quatro dados coletados em uma unica tabela."
   ]
  },
  {
   "cell_type": "code",
   "execution_count": 340,
   "metadata": {},
   "outputs": [],
   "source": [
    "renda_idx = renda_2005.set_index('country')"
   ]
  },
  {
   "cell_type": "code",
   "execution_count": 341,
   "metadata": {},
   "outputs": [],
   "source": [
    "desemprego_idx = desemprego_2005.set_index('country')"
   ]
  },
  {
   "cell_type": "code",
   "execution_count": 342,
   "metadata": {},
   "outputs": [],
   "source": [
    "bilionarios_idx = bilionarios_2005.set_index('country')"
   ]
  },
  {
   "cell_type": "code",
   "execution_count": 343,
   "metadata": {},
   "outputs": [],
   "source": [
    "suicidios_idx = suicidios_2005.set_index('country')"
   ]
  },
  {
   "cell_type": "code",
   "execution_count": 344,
   "metadata": {},
   "outputs": [
    {
     "data": {
      "text/html": [
       "<div>\n",
       "<style scoped>\n",
       "    .dataframe tbody tr th:only-of-type {\n",
       "        vertical-align: middle;\n",
       "    }\n",
       "\n",
       "    .dataframe tbody tr th {\n",
       "        vertical-align: top;\n",
       "    }\n",
       "\n",
       "    .dataframe thead th {\n",
       "        text-align: right;\n",
       "    }\n",
       "</style>\n",
       "<table border=\"1\" class=\"dataframe\">\n",
       "  <thead>\n",
       "    <tr style=\"text-align: right;\">\n",
       "      <th></th>\n",
       "      <th>2005_renda</th>\n",
       "      <th>2005_dspg</th>\n",
       "    </tr>\n",
       "    <tr>\n",
       "      <th>country</th>\n",
       "      <th></th>\n",
       "      <th></th>\n",
       "    </tr>\n",
       "  </thead>\n",
       "  <tbody>\n",
       "    <tr>\n",
       "      <th>Afghanistan</th>\n",
       "      <td>NaN</td>\n",
       "      <td>NaN</td>\n",
       "    </tr>\n",
       "    <tr>\n",
       "      <th>Albania</th>\n",
       "      <td>2500.0</td>\n",
       "      <td>NaN</td>\n",
       "    </tr>\n",
       "    <tr>\n",
       "      <th>Algeria</th>\n",
       "      <td>2060.0</td>\n",
       "      <td>15.3</td>\n",
       "    </tr>\n",
       "    <tr>\n",
       "      <th>Angola</th>\n",
       "      <td>564.0</td>\n",
       "      <td>NaN</td>\n",
       "    </tr>\n",
       "    <tr>\n",
       "      <th>Argentina</th>\n",
       "      <td>3790.0</td>\n",
       "      <td>11.5</td>\n",
       "    </tr>\n",
       "  </tbody>\n",
       "</table>\n",
       "</div>"
      ],
      "text/plain": [
       "             2005_renda  2005_dspg\n",
       "country                           \n",
       "Afghanistan         NaN        NaN\n",
       "Albania          2500.0        NaN\n",
       "Algeria          2060.0       15.3\n",
       "Angola            564.0        NaN\n",
       "Argentina        3790.0       11.5"
      ]
     },
     "execution_count": 344,
     "metadata": {},
     "output_type": "execute_result"
    }
   ],
   "source": [
    "renda_desemprego = renda_idx.join(desemprego_idx, how='inner', lsuffix='_renda', rsuffix='_dspg')\n",
    "renda_desemprego.head()"
   ]
  },
  {
   "cell_type": "code",
   "execution_count": 345,
   "metadata": {},
   "outputs": [
    {
     "data": {
      "text/html": [
       "<div>\n",
       "<style scoped>\n",
       "    .dataframe tbody tr th:only-of-type {\n",
       "        vertical-align: middle;\n",
       "    }\n",
       "\n",
       "    .dataframe tbody tr th {\n",
       "        vertical-align: top;\n",
       "    }\n",
       "\n",
       "    .dataframe thead th {\n",
       "        text-align: right;\n",
       "    }\n",
       "</style>\n",
       "<table border=\"1\" class=\"dataframe\">\n",
       "  <thead>\n",
       "    <tr style=\"text-align: right;\">\n",
       "      <th></th>\n",
       "      <th>2005_bln</th>\n",
       "      <th>2005_scd</th>\n",
       "    </tr>\n",
       "    <tr>\n",
       "      <th>country</th>\n",
       "      <th></th>\n",
       "      <th></th>\n",
       "    </tr>\n",
       "  </thead>\n",
       "  <tbody>\n",
       "    <tr>\n",
       "      <th>Afghanistan</th>\n",
       "      <td>0.0</td>\n",
       "      <td>1600.00</td>\n",
       "    </tr>\n",
       "    <tr>\n",
       "      <th>Albania</th>\n",
       "      <td>0.0</td>\n",
       "      <td>204.00</td>\n",
       "    </tr>\n",
       "    <tr>\n",
       "      <th>Algeria</th>\n",
       "      <td>0.0</td>\n",
       "      <td>1210.00</td>\n",
       "    </tr>\n",
       "    <tr>\n",
       "      <th>Andorra</th>\n",
       "      <td>0.0</td>\n",
       "      <td>7.04</td>\n",
       "    </tr>\n",
       "    <tr>\n",
       "      <th>Angola</th>\n",
       "      <td>0.0</td>\n",
       "      <td>980.00</td>\n",
       "    </tr>\n",
       "  </tbody>\n",
       "</table>\n",
       "</div>"
      ],
      "text/plain": [
       "             2005_bln  2005_scd\n",
       "country                        \n",
       "Afghanistan       0.0   1600.00\n",
       "Albania           0.0    204.00\n",
       "Algeria           0.0   1210.00\n",
       "Andorra           0.0      7.04\n",
       "Angola            0.0    980.00"
      ]
     },
     "execution_count": 345,
     "metadata": {},
     "output_type": "execute_result"
    }
   ],
   "source": [
    "bili_sui = bilionarios_idx.join(suicidios_idx, how='inner', lsuffix='_bln', rsuffix='_scd')\n",
    "bili_sui.head()"
   ]
  },
  {
   "cell_type": "code",
   "execution_count": 346,
   "metadata": {},
   "outputs": [
    {
     "data": {
      "text/html": [
       "<div>\n",
       "<style scoped>\n",
       "    .dataframe tbody tr th:only-of-type {\n",
       "        vertical-align: middle;\n",
       "    }\n",
       "\n",
       "    .dataframe tbody tr th {\n",
       "        vertical-align: top;\n",
       "    }\n",
       "\n",
       "    .dataframe thead th {\n",
       "        text-align: right;\n",
       "    }\n",
       "</style>\n",
       "<table border=\"1\" class=\"dataframe\">\n",
       "  <thead>\n",
       "    <tr style=\"text-align: right;\">\n",
       "      <th></th>\n",
       "      <th>2005_renda</th>\n",
       "      <th>2005_dspg</th>\n",
       "      <th>2005_bln</th>\n",
       "      <th>2005_scd</th>\n",
       "    </tr>\n",
       "    <tr>\n",
       "      <th>country</th>\n",
       "      <th></th>\n",
       "      <th></th>\n",
       "      <th></th>\n",
       "      <th></th>\n",
       "    </tr>\n",
       "  </thead>\n",
       "  <tbody>\n",
       "    <tr>\n",
       "      <th>Afghanistan</th>\n",
       "      <td>NaN</td>\n",
       "      <td>NaN</td>\n",
       "      <td>0.0000</td>\n",
       "      <td>1600.0</td>\n",
       "    </tr>\n",
       "    <tr>\n",
       "      <th>Albania</th>\n",
       "      <td>2500.0</td>\n",
       "      <td>NaN</td>\n",
       "      <td>0.0000</td>\n",
       "      <td>204.0</td>\n",
       "    </tr>\n",
       "    <tr>\n",
       "      <th>Algeria</th>\n",
       "      <td>2060.0</td>\n",
       "      <td>15.3</td>\n",
       "      <td>0.0000</td>\n",
       "      <td>1210.0</td>\n",
       "    </tr>\n",
       "    <tr>\n",
       "      <th>Angola</th>\n",
       "      <td>564.0</td>\n",
       "      <td>NaN</td>\n",
       "      <td>0.0000</td>\n",
       "      <td>980.0</td>\n",
       "    </tr>\n",
       "    <tr>\n",
       "      <th>Argentina</th>\n",
       "      <td>3790.0</td>\n",
       "      <td>11.5</td>\n",
       "      <td>0.0253</td>\n",
       "      <td>4470.0</td>\n",
       "    </tr>\n",
       "  </tbody>\n",
       "</table>\n",
       "</div>"
      ],
      "text/plain": [
       "             2005_renda  2005_dspg  2005_bln  2005_scd\n",
       "country                                               \n",
       "Afghanistan         NaN        NaN    0.0000    1600.0\n",
       "Albania          2500.0        NaN    0.0000     204.0\n",
       "Algeria          2060.0       15.3    0.0000    1210.0\n",
       "Angola            564.0        NaN    0.0000     980.0\n",
       "Argentina        3790.0       11.5    0.0253    4470.0"
      ]
     },
     "execution_count": 346,
     "metadata": {},
     "output_type": "execute_result"
    }
   ],
   "source": [
    "tab = renda_desemprego.join(bili_sui, how='inner')\n",
    "tab.head()"
   ]
  },
  {
   "cell_type": "markdown",
   "metadata": {},
   "source": [
    "# Criando a  variável dos integrantes da OCDE\n",
    "\n",
    "Para a análise da hipótese em pauta é necessário a criação da variável dos integrantes da OCDE para iniciar as relações que darão significado a conclusão final."
   ]
  },
  {
   "cell_type": "code",
   "execution_count": 347,
   "metadata": {},
   "outputs": [
    {
     "data": {
      "text/html": [
       "<div>\n",
       "<style scoped>\n",
       "    .dataframe tbody tr th:only-of-type {\n",
       "        vertical-align: middle;\n",
       "    }\n",
       "\n",
       "    .dataframe tbody tr th {\n",
       "        vertical-align: top;\n",
       "    }\n",
       "\n",
       "    .dataframe thead th {\n",
       "        text-align: right;\n",
       "    }\n",
       "</style>\n",
       "<table border=\"1\" class=\"dataframe\">\n",
       "  <thead>\n",
       "    <tr style=\"text-align: right;\">\n",
       "      <th></th>\n",
       "      <th>2005_renda</th>\n",
       "      <th>2005_dspg</th>\n",
       "      <th>2005_bln</th>\n",
       "      <th>2005_scd</th>\n",
       "      <th>OCDE</th>\n",
       "    </tr>\n",
       "    <tr>\n",
       "      <th>country</th>\n",
       "      <th></th>\n",
       "      <th></th>\n",
       "      <th></th>\n",
       "      <th></th>\n",
       "      <th></th>\n",
       "    </tr>\n",
       "  </thead>\n",
       "  <tbody>\n",
       "    <tr>\n",
       "      <th>Afghanistan</th>\n",
       "      <td>NaN</td>\n",
       "      <td>NaN</td>\n",
       "      <td>0.0000</td>\n",
       "      <td>1600.0</td>\n",
       "      <td>excluso</td>\n",
       "    </tr>\n",
       "    <tr>\n",
       "      <th>Albania</th>\n",
       "      <td>2500.0</td>\n",
       "      <td>NaN</td>\n",
       "      <td>0.0000</td>\n",
       "      <td>204.0</td>\n",
       "      <td>excluso</td>\n",
       "    </tr>\n",
       "    <tr>\n",
       "      <th>Algeria</th>\n",
       "      <td>2060.0</td>\n",
       "      <td>15.3</td>\n",
       "      <td>0.0000</td>\n",
       "      <td>1210.0</td>\n",
       "      <td>excluso</td>\n",
       "    </tr>\n",
       "    <tr>\n",
       "      <th>Angola</th>\n",
       "      <td>564.0</td>\n",
       "      <td>NaN</td>\n",
       "      <td>0.0000</td>\n",
       "      <td>980.0</td>\n",
       "      <td>excluso</td>\n",
       "    </tr>\n",
       "    <tr>\n",
       "      <th>Argentina</th>\n",
       "      <td>3790.0</td>\n",
       "      <td>11.5</td>\n",
       "      <td>0.0253</td>\n",
       "      <td>4470.0</td>\n",
       "      <td>excluso</td>\n",
       "    </tr>\n",
       "  </tbody>\n",
       "</table>\n",
       "</div>"
      ],
      "text/plain": [
       "             2005_renda  2005_dspg  2005_bln  2005_scd     OCDE\n",
       "country                                                        \n",
       "Afghanistan         NaN        NaN    0.0000    1600.0  excluso\n",
       "Albania          2500.0        NaN    0.0000     204.0  excluso\n",
       "Algeria          2060.0       15.3    0.0000    1210.0  excluso\n",
       "Angola            564.0        NaN    0.0000     980.0  excluso\n",
       "Argentina        3790.0       11.5    0.0253    4470.0  excluso"
      ]
     },
     "execution_count": 347,
     "metadata": {},
     "output_type": "execute_result"
    }
   ],
   "source": [
    "tab['OCDE']='excluso'\n",
    "lista_OCDE=['Germany','Australia', 'Austria', 'Belgium', 'Canada', 'Chile', 'South Korea', 'Denmark', 'Slovenia', 'Spain', 'United States', 'Estonia', 'Finland', 'France', 'Greece', 'Hungary', 'Ireland', 'Iceland', 'Israel', 'Italy', 'Japan', 'Latvia', 'Luxembourg', 'Mexico', 'Norway', 'New Zealand', 'Netherlands', 'Peru', 'Poland', 'Portugal', 'United Kingdom']\n",
    "tab.loc[lista_OCDE, 'OCDE']='incluso'\n",
    "tab.head()"
   ]
  },
  {
   "cell_type": "markdown",
   "metadata": {},
   "source": [
    "# Análise de suicídios\n",
    "\n",
    "Aqui se encontra o histograma e o boxplot do número de suicídios no ano de 2005"
   ]
  },
  {
   "cell_type": "code",
   "execution_count": 354,
   "metadata": {},
   "outputs": [
    {
     "data": {
      "text/plain": [
       "Text(0.5, 0, 'Suicídios')"
      ]
     },
     "execution_count": 354,
     "metadata": {},
     "output_type": "execute_result"
    },
    {
     "data": {
      "image/png": "[encoded data removed]",
      "text/plain": [
       "<Figure size 504x1152 with 1 Axes>"
      ]
     },
     "metadata": {},
     "output_type": "display_data"
    }
   ],
   "source": [
    "\n",
    "fig = plt.figure(figsize=(7,16))\n",
    "plt.subplot(311)\n",
    "plot = tab['2005_scd'].plot.hist(bins=5, title='Número de suicídios em 2005', alpha=1)\n",
    "plt.ylabel('Frequência absoluta')\n",
    "plt.xlabel('Suicídios')"
   ]
  },
  {
   "cell_type": "code",
   "execution_count": 355,
   "metadata": {},
   "outputs": [
    {
     "data": {
      "text/plain": [
       "<matplotlib.axes._subplots.AxesSubplot at 0x2418fc1b400>"
      ]
     },
     "execution_count": 355,
     "metadata": {},
     "output_type": "execute_result"
    },
    {
     "data": {
      "image/png": "[encoded data removed]",
      "text/plain": [
       "<Figure size 432x288 with 1 Axes>"
      ]
     },
     "metadata": {},
     "output_type": "display_data"
    }
   ],
   "source": [
    "tab.loc[:,'2005_scd'].plot.box(logy=True)"
   ]
  },
  {
   "cell_type": "markdown",
   "metadata": {},
   "source": [
    "**Análise dos gráficos:**\n",
    "\n",
    "Observando o boxplot e o histograma é possivel observar no histrama uma alta assimetria a direita, isso ocasionado por um alto número de suicídios decorrentes dos países Rússia, China e Índia. O que será levado em conta mais a frente no documento"
   ]
  },
  {
   "cell_type": "markdown",
   "metadata": {},
   "source": [
    "# PARÂMETROS\n",
    "\n",
    "Estipulação de parametros para a melhor visualização dos gráficos realizados."
   ]
  },
  {
   "cell_type": "code",
   "execution_count": 356,
   "metadata": {},
   "outputs": [],
   "source": [
    "\n",
    "def parametros(tab_x,tab_y,nx='eixo x',ny= 'eixo y'):    \n",
    "    t=tab_y.cov(tab_x)/ tab_x.var()\n",
    "    k=tab_y.mean() -t*tab_x.mean()\n",
    "\n",
    "\n",
    "    f = plt.figure(figsize=(7, 5))\n",
    "    plt.scatter(tab_x, tab_y, c='red', alpha=1)\n",
    "    plt.title(nx + ' versus '+ ny)\n",
    "    plt.xlabel(nx)\n",
    "    plt.ylabel(ny)\n",
    "\n",
    "    plt.plot((tab_x.min(), tabx.max()), (t*tab_x.min()+k, t*tab_x.max()+k), color='red')\n",
    "\n",
    "    plt.tight_layout()\n",
    "    plt.show()"
   ]
  },
  {
   "cell_type": "markdown",
   "metadata": {},
   "source": [
    "# Correlação entre a renda e os bilionários"
   ]
  },
  {
   "cell_type": "code",
   "execution_count": 357,
   "metadata": {},
   "outputs": [
    {
     "name": "stderr",
     "output_type": "stream",
     "text": [
      "C:\\Users\\Roberto\\.anaconda2\\lib\\site-packages\\scipy\\stats\\stats.py:1713: FutureWarning: Using a non-tuple sequence for multidimensional indexing is deprecated; use `arr[tuple(seq)]` instead of `arr[seq]`. In the future this will be interpreted as an array index, `arr[np.array(seq)]`, which will result either in an error or a different result.\n",
      "  return np.add.reduce(sorted[indexer] * weights, axis=axis) / sumval\n"
     ]
    },
    {
     "data": {
      "image/png": "[encoded data removed]",
      "text/plain": [
       "<Figure size 432x288 with 1 Axes>"
      ]
     },
     "metadata": {},
     "output_type": "display_data"
    }
   ],
   "source": [
    "tab.plot.scatter(x='2005_bln',y='2005_renda');\n",
    "sns.regplot(tab[\"2005_bln\"],tab[\"2005_renda\"], color=('black'))\n",
    "plt.grid()\n"
   ]
  },
  {
   "cell_type": "code",
   "execution_count": 419,
   "metadata": {},
   "outputs": [
    {
     "name": "stdout",
     "output_type": "stream",
     "text": [
      "A correlação entre a renda em 2005 e a o índice de bilionários em 2005 é: 0.6990251329296182\n"
     ]
    },
    {
     "data": {
      "text/html": [
       "<div>\n",
       "<style scoped>\n",
       "    .dataframe tbody tr th:only-of-type {\n",
       "        vertical-align: middle;\n",
       "    }\n",
       "\n",
       "    .dataframe tbody tr th {\n",
       "        vertical-align: top;\n",
       "    }\n",
       "\n",
       "    .dataframe thead th {\n",
       "        text-align: right;\n",
       "    }\n",
       "</style>\n",
       "<table border=\"1\" class=\"dataframe\">\n",
       "  <thead>\n",
       "    <tr style=\"text-align: right;\">\n",
       "      <th></th>\n",
       "      <th>2005_bln</th>\n",
       "      <th>2005_renda</th>\n",
       "    </tr>\n",
       "  </thead>\n",
       "  <tbody>\n",
       "    <tr>\n",
       "      <th>2005_bln</th>\n",
       "      <td>1.000000</td>\n",
       "      <td>0.699025</td>\n",
       "    </tr>\n",
       "    <tr>\n",
       "      <th>2005_renda</th>\n",
       "      <td>0.699025</td>\n",
       "      <td>1.000000</td>\n",
       "    </tr>\n",
       "  </tbody>\n",
       "</table>\n",
       "</div>"
      ],
      "text/plain": [
       "            2005_bln  2005_renda\n",
       "2005_bln    1.000000    0.699025\n",
       "2005_renda  0.699025    1.000000"
      ]
     },
     "execution_count": 419,
     "metadata": {},
     "output_type": "execute_result"
    }
   ],
   "source": [
    "\n",
    "print('A correlação entre a renda em 2005 e a o índice de bilionários em 2005 é:', tab['2005_renda'].corr(tab['2005_bln']))\n",
    "tab.loc[:,[\"2005_bln\", \"2005_renda\"]].corr()"
   ]
  },
  {
   "cell_type": "markdown",
   "metadata": {},
   "source": [
    "##### **conclusão sobre a correlação:** \n",
    "\n",
    "Observando o gráfico da correlação da renda e do número de bilonários no ano de 2005 é possível observar que a hipótese defendida sobre o aumento do número de bilionários de um país decorrente de uma renda alta no própio país é coerente, já que a correlação observada é alta e positiva (0.6990251329296182), explicitando que um país com uma renda alta tende a possuir um maior númeoro de bilionários."
   ]
  },
  {
   "cell_type": "markdown",
   "metadata": {},
   "source": [
    "# Correlação entre a renda e os suicídios"
   ]
  },
  {
   "cell_type": "code",
   "execution_count": 359,
   "metadata": {
    "scrolled": true
   },
   "outputs": [
    {
     "data": {
      "image/png": "[encoded data removed]",
      "text/plain": [
       "<Figure size 432x288 with 1 Axes>"
      ]
     },
     "metadata": {},
     "output_type": "display_data"
    }
   ],
   "source": [
    "tab.plot.scatter(x='2005_scd',y='2005_renda');\n",
    "sns.regplot(tab[\"2005_scd\"],tab[\"2005_renda\"], color=('blue'))\n",
    "\n",
    "plt.grid()\n"
   ]
  },
  {
   "cell_type": "markdown",
   "metadata": {},
   "source": [
    "**conclusão sobre a correlação:**\n",
    "\n",
    "Diante do gráfico apresentado podemos observar que a correlação é negativa muito baixa se aproximando quase de zero, porém isso ocorre pelo fato da presença da China, Índia e Rússia que possuem números extremamente altos de suicídios e induzem a correlação a ficar negativa. No entanto, não é essa a real natureza do número de suicídios diante dos outros países, além disso não fazem parte da OCDE, portanto se retirarmos esses países do gráfico teremos uma correlação mais coerente com os países da organização, por isso, da retirada desses países."
   ]
  },
  {
   "cell_type": "code",
   "execution_count": 360,
   "metadata": {},
   "outputs": [
    {
     "data": {
      "image/png": "[encoded data removed]",
      "text/plain": [
       "<Figure size 432x288 with 1 Axes>"
      ]
     },
     "metadata": {},
     "output_type": "display_data"
    }
   ],
   "source": [
    "tab_sem_cir= tab[tab['2005_scd'] <= 50000]\n",
    "tab_sem_cir.plot.scatter(x=\"2005_scd\",y='2005_renda');\n",
    "sns.regplot(tab_sem_cir[\"2005_scd\"],tab_sem_cir[\"2005_renda\"], color=('blue'))\n",
    "plt.grid()"
   ]
  },
  {
   "cell_type": "code",
   "execution_count": 420,
   "metadata": {},
   "outputs": [
    {
     "name": "stdout",
     "output_type": "stream",
     "text": [
      "A correlação entre o a renda em 2005 e o número de suicídios em 2005 é: -0.02064468874622713\n"
     ]
    },
    {
     "data": {
      "text/html": [
       "<div>\n",
       "<style scoped>\n",
       "    .dataframe tbody tr th:only-of-type {\n",
       "        vertical-align: middle;\n",
       "    }\n",
       "\n",
       "    .dataframe tbody tr th {\n",
       "        vertical-align: top;\n",
       "    }\n",
       "\n",
       "    .dataframe thead th {\n",
       "        text-align: right;\n",
       "    }\n",
       "</style>\n",
       "<table border=\"1\" class=\"dataframe\">\n",
       "  <thead>\n",
       "    <tr style=\"text-align: right;\">\n",
       "      <th></th>\n",
       "      <th>2005_scd</th>\n",
       "      <th>2005_renda</th>\n",
       "    </tr>\n",
       "  </thead>\n",
       "  <tbody>\n",
       "    <tr>\n",
       "      <th>2005_scd</th>\n",
       "      <td>1.000000</td>\n",
       "      <td>-0.020645</td>\n",
       "    </tr>\n",
       "    <tr>\n",
       "      <th>2005_renda</th>\n",
       "      <td>-0.020645</td>\n",
       "      <td>1.000000</td>\n",
       "    </tr>\n",
       "  </tbody>\n",
       "</table>\n",
       "</div>"
      ],
      "text/plain": [
       "            2005_scd  2005_renda\n",
       "2005_scd    1.000000   -0.020645\n",
       "2005_renda -0.020645    1.000000"
      ]
     },
     "execution_count": 420,
     "metadata": {},
     "output_type": "execute_result"
    }
   ],
   "source": [
    "print('A correlação entre o a renda em 2005 e o número de suicídios em 2005 é:', tab['2005_renda'].corr(tab['2005_scd']))\n",
    "tab.loc[:,[\"2005_scd\", \"2005_renda\"]].corr()"
   ]
  },
  {
   "cell_type": "markdown",
   "metadata": {},
   "source": [
    "**conclusão sobre a correlação:**\n",
    "\n",
    "Após retirar a China, a Rússia e a Índia observa-se que a correlaçao passou de negativa para positiva deixando claro que há uma alta correlação onde o aumento na renda dos países também aumenta o número de suicídios desses países.\n",
    "\n",
    "Contrapondo a hipótese de que com uma paíse onde a renda é alta o número de suicídios deveria diminuir porém com a análise desses dados é possível concluir que essa hipótese está um tanto quanto equivocada e que os suicídios não possuem essa relação, mas possuem a relação contrária, ou seja, quanto mais renda há no país mais suicídios ocorrem."
   ]
  },
  {
   "cell_type": "markdown",
   "metadata": {},
   "source": [
    "# Correlação entre o desemprego e os bilionários"
   ]
  },
  {
   "cell_type": "code",
   "execution_count": 362,
   "metadata": {},
   "outputs": [
    {
     "name": "stdout",
     "output_type": "stream",
     "text": [
      "Correlacionando a taxa de desemprego em 2005 e o número de bilionários em 2005 temos: -0.20024259579758483\n"
     ]
    },
    {
     "data": {
      "image/png": "[encoded data removed]",
      "text/plain": [
       "<Figure size 432x288 with 1 Axes>"
      ]
     },
     "metadata": {},
     "output_type": "display_data"
    }
   ],
   "source": [
    "tab.plot.scatter(x='2005_bln',y='2005_dspg');\n",
    "sns.regplot(tab[\"2005_bln\"],tab[\"2005_dspg\"], color=('red'))\n",
    "\n",
    "plt.grid()\n",
    "print('Correlacionando a taxa de desemprego em 2005 e o número de bilionários em 2005 temos:', tab['2005_dspg'].corr(tab['2005_bln']))"
   ]
  },
  {
   "cell_type": "markdown",
   "metadata": {},
   "source": [
    "**conclusão sobre a correlação:**\n",
    "\n",
    "Na correlação entre o desemprego e os bilionários dos países em 2005, é possível concluir que com a diminuição de desemprego o número de bilionários aumenta, levando em conta a hipótese abordada no início do documento que pautava a questão de que quanto menos desemprego maior seriam os bilionários é possivel dizer que é adequada ao países em 2005."
   ]
  },
  {
   "cell_type": "markdown",
   "metadata": {},
   "source": []
  },
  {
   "cell_type": "markdown",
   "metadata": {},
   "source": [
    "# Correlação entre o desemprego e os suicídios"
   ]
  },
  {
   "cell_type": "code",
   "execution_count": 363,
   "metadata": {},
   "outputs": [
    {
     "name": "stdout",
     "output_type": "stream",
     "text": [
      "Correlacionando a taxa de desemprego em 2005 e o número de suicídios em 2005 temos: -0.15576692485057295\n"
     ]
    },
    {
     "data": {
      "image/png": "[encoded data removed]",
      "text/plain": [
       "<Figure size 432x288 with 1 Axes>"
      ]
     },
     "metadata": {},
     "output_type": "display_data"
    }
   ],
   "source": [
    "tab2_sem_cir=tab[tab['2005_scd'] <= 50000]\n",
    "tab2_sem_cir.plot.scatter(x='2005_scd',y='2005_dspg');\n",
    "sns.regplot(tab2_sem_cir[\"2005_scd\"],tab2_sem_cir[\"2005_dspg\"], color=('green'))\n",
    "\n",
    "plt.grid()\n",
    "print('Correlacionando a taxa de desemprego em 2005 e o número de suicídios em 2005 temos:', tab['2005_dspg'].corr(tab['2005_scd']))"
   ]
  },
  {
   "cell_type": "markdown",
   "metadata": {},
   "source": [
    "**conclusão sobre a correlação**\n",
    "\n",
    "Relembrando que a análise do número de suicídios ainda não possui os dados da Índia, Rússia e China para uma correlação mais condizente com os países análisados, porém neste caso a retirada desses países não alterou considerávelmente a correlação entre o desemprego e o número de suicídios.\n",
    "\n",
    "Esta correlação se manteve negativa indo contra a hipótese inicial de que um países com pouco índice de desemprego teriam menos suicídios, no entanto observa-se que não há uma relação muito concreta sobre essa correlação, mas a princípio quanto menos desemprego maior a o número de suicídios. "
   ]
  },
  {
   "cell_type": "markdown",
   "metadata": {},
   "source": [
    "# Criação de uma variavel qualitativa para renda\n",
    "\n",
    "Para uma melhor relação entre as variaveis a criação de uma renda qualitativa é necessária.\n",
    "\n",
    "Para realizar a conversão de uma variavel quantitativa para qualitativa foi utilizado a criação de seis faixas de valores, para nomear qualitativamente cada uma desses seis intervalos de renda. Onde os intervalos são de:\n",
    "\n",
    "- RENDA MUITO BAIXA: países com renda a baixo de 9400\n",
    "- RENDA BAIXA: países com renda maiores que 9400 e menores que 19400\n",
    "- RENDA MÉDIA BAIXA: países com renda maiores que 19400 e menores que 29400\n",
    "- RENDA MÉDIA ALTA: países com renda maiores que 29400 e menores que 39400\n",
    "- RENDA ALTA: países com renda maiores que 39400 e menores que 49400\n",
    "- RENDA MUITO ALTA: países com renda maiores que 49400\n"
   ]
  },
  {
   "cell_type": "code",
   "execution_count": 364,
   "metadata": {},
   "outputs": [
    {
     "data": {
      "text/plain": [
       "(-600, 9400]      78.048780\n",
       "(9400, 19400]      6.707317\n",
       "(19400, 29400]     4.878049\n",
       "(29400, 39400]     8.536585\n",
       "(39400, 49400]     1.219512\n",
       "(49400, 59400]     0.609756\n",
       "Name: 2005_renda, dtype: float64"
      ]
     },
     "execution_count": 364,
     "metadata": {},
     "output_type": "execute_result"
    }
   ],
   "source": [
    "f = range(-600,68000,10000)\n",
    "renda_cat = pd.cut(tab['2005_renda'], bins=f)\n",
    "renda_cat.value_counts(sort=False, normalize=True)*100"
   ]
  },
  {
   "cell_type": "code",
   "execution_count": 365,
   "metadata": {},
   "outputs": [
    {
     "data": {
      "text/html": [
       "<div>\n",
       "<style scoped>\n",
       "    .dataframe tbody tr th:only-of-type {\n",
       "        vertical-align: middle;\n",
       "    }\n",
       "\n",
       "    .dataframe tbody tr th {\n",
       "        vertical-align: top;\n",
       "    }\n",
       "\n",
       "    .dataframe thead th {\n",
       "        text-align: right;\n",
       "    }\n",
       "</style>\n",
       "<table border=\"1\" class=\"dataframe\">\n",
       "  <thead>\n",
       "    <tr style=\"text-align: right;\">\n",
       "      <th></th>\n",
       "      <th>2005_renda</th>\n",
       "      <th>2005_dspg</th>\n",
       "      <th>2005_bln</th>\n",
       "      <th>2005_scd</th>\n",
       "      <th>OCDE</th>\n",
       "      <th>RENDA_QUALITATIVA</th>\n",
       "    </tr>\n",
       "    <tr>\n",
       "      <th>country</th>\n",
       "      <th></th>\n",
       "      <th></th>\n",
       "      <th></th>\n",
       "      <th></th>\n",
       "      <th></th>\n",
       "      <th></th>\n",
       "    </tr>\n",
       "  </thead>\n",
       "  <tbody>\n",
       "    <tr>\n",
       "      <th>Afghanistan</th>\n",
       "      <td>NaN</td>\n",
       "      <td>NaN</td>\n",
       "      <td>0.0000</td>\n",
       "      <td>1600.0</td>\n",
       "      <td>excluso</td>\n",
       "      <td>NaN</td>\n",
       "    </tr>\n",
       "    <tr>\n",
       "      <th>Albania</th>\n",
       "      <td>2500.0</td>\n",
       "      <td>NaN</td>\n",
       "      <td>0.0000</td>\n",
       "      <td>204.0</td>\n",
       "      <td>excluso</td>\n",
       "      <td>MUITO BAIXA</td>\n",
       "    </tr>\n",
       "    <tr>\n",
       "      <th>Algeria</th>\n",
       "      <td>2060.0</td>\n",
       "      <td>15.3</td>\n",
       "      <td>0.0000</td>\n",
       "      <td>1210.0</td>\n",
       "      <td>excluso</td>\n",
       "      <td>MUITO BAIXA</td>\n",
       "    </tr>\n",
       "    <tr>\n",
       "      <th>Angola</th>\n",
       "      <td>564.0</td>\n",
       "      <td>NaN</td>\n",
       "      <td>0.0000</td>\n",
       "      <td>980.0</td>\n",
       "      <td>excluso</td>\n",
       "      <td>MUITO BAIXA</td>\n",
       "    </tr>\n",
       "    <tr>\n",
       "      <th>Argentina</th>\n",
       "      <td>3790.0</td>\n",
       "      <td>11.5</td>\n",
       "      <td>0.0253</td>\n",
       "      <td>4470.0</td>\n",
       "      <td>excluso</td>\n",
       "      <td>MUITO BAIXA</td>\n",
       "    </tr>\n",
       "  </tbody>\n",
       "</table>\n",
       "</div>"
      ],
      "text/plain": [
       "             2005_renda  2005_dspg  2005_bln  2005_scd     OCDE  \\\n",
       "country                                                           \n",
       "Afghanistan         NaN        NaN    0.0000    1600.0  excluso   \n",
       "Albania          2500.0        NaN    0.0000     204.0  excluso   \n",
       "Algeria          2060.0       15.3    0.0000    1210.0  excluso   \n",
       "Angola            564.0        NaN    0.0000     980.0  excluso   \n",
       "Argentina        3790.0       11.5    0.0253    4470.0  excluso   \n",
       "\n",
       "            RENDA_QUALITATIVA  \n",
       "country                        \n",
       "Afghanistan               NaN  \n",
       "Albania           MUITO BAIXA  \n",
       "Algeria           MUITO BAIXA  \n",
       "Angola            MUITO BAIXA  \n",
       "Argentina         MUITO BAIXA  "
      ]
     },
     "execution_count": 365,
     "metadata": {},
     "output_type": "execute_result"
    }
   ],
   "source": [
    "tab.loc[(tab['2005_renda']<9400), 'RENDA_QUALITATIVA']='MUITO BAIXA'\n",
    "tab.loc[(tab['2005_renda']>9400) & (tab['2005_renda']<19400), 'RENDA_QUALITATIVA']='BAIXA'\n",
    "tab.loc[(tab['2005_renda']>19400) & (tab['2005_renda']<29400), 'RENDA_QUALITATIVA']='MEDIA BAIXA'\n",
    "tab.loc[(tab['2005_renda']>29400) & (tab['2005_renda']<39400), 'RENDA_QUALITATIVA']='MEDIA ALTA'\n",
    "tab.loc[(tab['2005_renda']>39400) & (tab['2005_renda']<49400), 'RENDA_QUALITATIVA']='ALTA'\n",
    "tab.loc[(tab['2005_renda']>49400), 'RENDA_QUALITATIVA']='MUITO ALTA'\n",
    "\n",
    "\n",
    "tab.head()"
   ]
  },
  {
   "cell_type": "markdown",
   "metadata": {},
   "source": [
    "# Identificando a renda dos países de dentro e fora do OCDE\n",
    "\n",
    "Utilizando o artifício de cruzamento de variaveis qualitativas foi possível realizar o cruzamento da renda separada por seis  intervalos e transformada em qualitativa com os países integrantes e não integrantes da organização OCDE"
   ]
  },
  {
   "cell_type": "code",
   "execution_count": 366,
   "metadata": {},
   "outputs": [
    {
     "data": {
      "text/html": [
       "<div>\n",
       "<style scoped>\n",
       "    .dataframe tbody tr th:only-of-type {\n",
       "        vertical-align: middle;\n",
       "    }\n",
       "\n",
       "    .dataframe tbody tr th {\n",
       "        vertical-align: top;\n",
       "    }\n",
       "\n",
       "    .dataframe thead th {\n",
       "        text-align: right;\n",
       "    }\n",
       "</style>\n",
       "<table border=\"1\" class=\"dataframe\">\n",
       "  <thead>\n",
       "    <tr style=\"text-align: right;\">\n",
       "      <th>OCDE</th>\n",
       "      <th>excluso</th>\n",
       "      <th>incluso</th>\n",
       "    </tr>\n",
       "    <tr>\n",
       "      <th>RENDA_QUALITATIVA</th>\n",
       "      <th></th>\n",
       "      <th></th>\n",
       "    </tr>\n",
       "  </thead>\n",
       "  <tbody>\n",
       "    <tr>\n",
       "      <th>MUITO BAIXA</th>\n",
       "      <td>121</td>\n",
       "      <td>7</td>\n",
       "    </tr>\n",
       "    <tr>\n",
       "      <th>BAIXA</th>\n",
       "      <td>6</td>\n",
       "      <td>5</td>\n",
       "    </tr>\n",
       "    <tr>\n",
       "      <th>MEDIA BAIXA</th>\n",
       "      <td>3</td>\n",
       "      <td>5</td>\n",
       "    </tr>\n",
       "    <tr>\n",
       "      <th>MEDIA ALTA</th>\n",
       "      <td>4</td>\n",
       "      <td>10</td>\n",
       "    </tr>\n",
       "    <tr>\n",
       "      <th>ALTA</th>\n",
       "      <td>1</td>\n",
       "      <td>1</td>\n",
       "    </tr>\n",
       "    <tr>\n",
       "      <th>MUITO ALTA</th>\n",
       "      <td>0</td>\n",
       "      <td>2</td>\n",
       "    </tr>\n",
       "  </tbody>\n",
       "</table>\n",
       "</div>"
      ],
      "text/plain": [
       "OCDE               excluso  incluso\n",
       "RENDA_QUALITATIVA                  \n",
       "MUITO BAIXA            121        7\n",
       "BAIXA                    6        5\n",
       "MEDIA BAIXA              3        5\n",
       "MEDIA ALTA               4       10\n",
       "ALTA                     1        1\n",
       "MUITO ALTA               0        2"
      ]
     },
     "execution_count": 366,
     "metadata": {},
     "output_type": "execute_result"
    }
   ],
   "source": [
    "\n",
    "ct = pd.crosstab(tab.RENDA_QUALITATIVA, tab.OCDE)\n",
    "\n",
    "ctr= ct.reindex([\"MUITO BAIXA\",  \"BAIXA\", 'MEDIA BAIXA', 'MEDIA ALTA', 'ALTA', 'MUITO ALTA'])\n",
    "ctr"
   ]
  },
  {
   "cell_type": "code",
   "execution_count": 367,
   "metadata": {},
   "outputs": [
    {
     "data": {
      "text/plain": [
       "<matplotlib.axes._subplots.AxesSubplot at 0x2418ffaaa20>"
      ]
     },
     "execution_count": 367,
     "metadata": {},
     "output_type": "execute_result"
    },
    {
     "data": {
      "image/png": "[encoded data removed]",
      "text/plain": [
       "<Figure size 432x288 with 1 Axes>"
      ]
     },
     "metadata": {},
     "output_type": "display_data"
    }
   ],
   "source": [
    "\n",
    "ct1= ctr.plot(kind='bar', color=('black', 'gold'),  legend=True)\n",
    "ct1"
   ]
  },
  {
   "cell_type": "code",
   "execution_count": 368,
   "metadata": {},
   "outputs": [
    {
     "name": "stderr",
     "output_type": "stream",
     "text": [
      "C:\\Users\\Roberto\\.anaconda2\\lib\\site-packages\\matplotlib\\figure.py:98: MatplotlibDeprecationWarning: \n",
      "Adding an axes using the same arguments as a previous axes currently reuses the earlier instance.  In a future version, a new instance will always be created and returned.  Meanwhile, this warning can be suppressed, and the future behavior ensured, by passing a unique label to each axes instance.\n",
      "  \"Adding an axes using the same arguments as a previous axes \"\n"
     ]
    },
    {
     "data": {
      "text/plain": [
       "<matplotlib.legend.Legend at 0x2418f73de48>"
      ]
     },
     "execution_count": 368,
     "metadata": {},
     "output_type": "execute_result"
    },
    {
     "data": {
      "image/png": "[encoded data removed]",
      "text/plain": [
       "<Figure size 432x288 with 1 Axes>"
      ]
     },
     "metadata": {},
     "output_type": "display_data"
    }
   ],
   "source": [
    "def percConvert(tab):\n",
    "  return (tab/float(tab[-1])*100).round(decimals=0)\n",
    "\n",
    "ct2=pd.crosstab(tab.RENDA_QUALITATIVA,tab.OCDE,margins=True,rownames=['RENDA'], colnames=['OCDE']).apply(percConvert, axis=0)\n",
    "ct2 = ct2.iloc[0:5,:]\n",
    "plot = ct2.T.plot(kind='bar', stacked=True,title='RENDA DOS INTEGRANTES E NÃO INTEGRANTES DA OCDE')\n",
    "plot.set_ylim([0, 80])\n",
    "plt.ylabel('Freq.Relativa (em%)')\n",
    "\n",
    "ax = plt.subplot(111)\n",
    "box = ax.get_position()\n",
    "ax.set_position([box.x0, box.y0, box.width * 0.8, box.height])\n",
    "ax.legend(loc='center left', bbox_to_anchor=(1, 0.5))"
   ]
  },
  {
   "cell_type": "markdown",
   "metadata": {},
   "source": [
    "**Análise dos gráficos:** \n",
    "\n",
    "Ao criar uma variavel qualitativa para a renda se tornou mais fácil a observação dos dados da renda dos países de fora e dentro da OCDE, com isso foi possível observar que a renda dos integrantes da organização são na maioria uma renda \"média alta\" e possuem os dois únicos dois países que possuem uma renda \"muito alta\". Portanto, a primeira vista os integrantes da OCDE possuem rendas razoáveis cumprindo o objetivo da organização de manter a econômia dos seus países equilibrada."
   ]
  },
  {
   "cell_type": "markdown",
   "metadata": {},
   "source": [
    "# Criação de outra variavel qualitativa para desemprego\n",
    "\n",
    "Para uma melhor relação entre as variaveis a criação de um índice de desemprego qualitativa é necessária.\n",
    "\n",
    "Para realizar a conversão de uma variavel quantitativa para qualitativa foi utilizado a criação de cinco faixas de valores, para nomear qualitativamente cada uma desses cinco intervalos de desemprego. Onde os intervalos são de:\n",
    "\n",
    "- MUITO BAIXO: países com índice de desemprego a baixo de 6\n",
    "- BAIXO: países com índice de desemprego maiores que 6 e menores que 12\n",
    "- MÉDIO: países com índice de desemprego maiores que 12 e menores que 18\n",
    "- ALTO: países com índice de desemprego maiores que 18 e menores que 24\n",
    "- MUITO ALTO: países com índice de desemprego maiores que 24"
   ]
  },
  {
   "cell_type": "code",
   "execution_count": 369,
   "metadata": {},
   "outputs": [
    {
     "data": {
      "text/plain": [
       "(0, 6]      39.130435\n",
       "(6, 12]     47.826087\n",
       "(12, 18]     9.782609\n",
       "(18, 24]     2.173913\n",
       "(24, 30]     1.086957\n",
       "Name: 2005_dspg, dtype: float64"
      ]
     },
     "execution_count": 369,
     "metadata": {},
     "output_type": "execute_result"
    }
   ],
   "source": [
    "f2 = range(0,31,6)\n",
    "dspg_cat = pd.cut(tab['2005_dspg'], bins=f2)\n",
    "dspg_cat.value_counts(sort=False, normalize=True)*100"
   ]
  },
  {
   "cell_type": "code",
   "execution_count": 370,
   "metadata": {},
   "outputs": [
    {
     "data": {
      "text/html": [
       "<div>\n",
       "<style scoped>\n",
       "    .dataframe tbody tr th:only-of-type {\n",
       "        vertical-align: middle;\n",
       "    }\n",
       "\n",
       "    .dataframe tbody tr th {\n",
       "        vertical-align: top;\n",
       "    }\n",
       "\n",
       "    .dataframe thead th {\n",
       "        text-align: right;\n",
       "    }\n",
       "</style>\n",
       "<table border=\"1\" class=\"dataframe\">\n",
       "  <thead>\n",
       "    <tr style=\"text-align: right;\">\n",
       "      <th></th>\n",
       "      <th>2005_renda</th>\n",
       "      <th>2005_dspg</th>\n",
       "      <th>2005_bln</th>\n",
       "      <th>2005_scd</th>\n",
       "      <th>OCDE</th>\n",
       "      <th>RENDA_QUALITATIVA</th>\n",
       "      <th>DESEMPREGO_QUALITATIVO</th>\n",
       "    </tr>\n",
       "    <tr>\n",
       "      <th>country</th>\n",
       "      <th></th>\n",
       "      <th></th>\n",
       "      <th></th>\n",
       "      <th></th>\n",
       "      <th></th>\n",
       "      <th></th>\n",
       "      <th></th>\n",
       "    </tr>\n",
       "  </thead>\n",
       "  <tbody>\n",
       "    <tr>\n",
       "      <th>Afghanistan</th>\n",
       "      <td>NaN</td>\n",
       "      <td>NaN</td>\n",
       "      <td>0.0000</td>\n",
       "      <td>1600.0</td>\n",
       "      <td>excluso</td>\n",
       "      <td>NaN</td>\n",
       "      <td>NaN</td>\n",
       "    </tr>\n",
       "    <tr>\n",
       "      <th>Albania</th>\n",
       "      <td>2500.0</td>\n",
       "      <td>NaN</td>\n",
       "      <td>0.0000</td>\n",
       "      <td>204.0</td>\n",
       "      <td>excluso</td>\n",
       "      <td>MUITO BAIXA</td>\n",
       "      <td>NaN</td>\n",
       "    </tr>\n",
       "    <tr>\n",
       "      <th>Algeria</th>\n",
       "      <td>2060.0</td>\n",
       "      <td>15.3</td>\n",
       "      <td>0.0000</td>\n",
       "      <td>1210.0</td>\n",
       "      <td>excluso</td>\n",
       "      <td>MUITO BAIXA</td>\n",
       "      <td>MEDIO</td>\n",
       "    </tr>\n",
       "    <tr>\n",
       "      <th>Angola</th>\n",
       "      <td>564.0</td>\n",
       "      <td>NaN</td>\n",
       "      <td>0.0000</td>\n",
       "      <td>980.0</td>\n",
       "      <td>excluso</td>\n",
       "      <td>MUITO BAIXA</td>\n",
       "      <td>NaN</td>\n",
       "    </tr>\n",
       "    <tr>\n",
       "      <th>Argentina</th>\n",
       "      <td>3790.0</td>\n",
       "      <td>11.5</td>\n",
       "      <td>0.0253</td>\n",
       "      <td>4470.0</td>\n",
       "      <td>excluso</td>\n",
       "      <td>MUITO BAIXA</td>\n",
       "      <td>BAIXO</td>\n",
       "    </tr>\n",
       "  </tbody>\n",
       "</table>\n",
       "</div>"
      ],
      "text/plain": [
       "             2005_renda  2005_dspg  2005_bln  2005_scd     OCDE  \\\n",
       "country                                                           \n",
       "Afghanistan         NaN        NaN    0.0000    1600.0  excluso   \n",
       "Albania          2500.0        NaN    0.0000     204.0  excluso   \n",
       "Algeria          2060.0       15.3    0.0000    1210.0  excluso   \n",
       "Angola            564.0        NaN    0.0000     980.0  excluso   \n",
       "Argentina        3790.0       11.5    0.0253    4470.0  excluso   \n",
       "\n",
       "            RENDA_QUALITATIVA DESEMPREGO_QUALITATIVO  \n",
       "country                                               \n",
       "Afghanistan               NaN                    NaN  \n",
       "Albania           MUITO BAIXA                    NaN  \n",
       "Algeria           MUITO BAIXA                  MEDIO  \n",
       "Angola            MUITO BAIXA                    NaN  \n",
       "Argentina         MUITO BAIXA                  BAIXO  "
      ]
     },
     "execution_count": 370,
     "metadata": {},
     "output_type": "execute_result"
    }
   ],
   "source": [
    "tab.loc[(tab['2005_dspg']<6), 'DESEMPREGO_QUALITATIVO']='MUITO BAIXO'\n",
    "tab.loc[(tab['2005_dspg']>6) & (tab['2005_dspg']<=12), 'DESEMPREGO_QUALITATIVO']='BAIXO'\n",
    "tab.loc[(tab['2005_dspg']>12) & (tab['2005_dspg']<=18), 'DESEMPREGO_QUALITATIVO']='MEDIO'\n",
    "tab.loc[(tab['2005_dspg']>18) & (tab['2005_dspg']<=24), 'DESEMPREGO_QUALITATIVO']='ALTO'\n",
    "tab.loc[(tab['2005_dspg']>24), 'DESEMPREGO_QUALITATIVO']='MUITO ALTO'\n",
    "\n",
    "\n",
    "\n",
    "tab.head()"
   ]
  },
  {
   "cell_type": "markdown",
   "metadata": {},
   "source": [
    "# Identificando o desemprego dos países de dentro e fora do OCDE\n",
    "\n",
    "Utilizando o artifício de cruzamento de variaveis qualitativas foi possível realizar o cruzamento do índice desemprego separado por cinco  intervalos e transformado em qualitativo com os países integrantes e não integrantes da organização OCDE"
   ]
  },
  {
   "cell_type": "code",
   "execution_count": 371,
   "metadata": {},
   "outputs": [
    {
     "data": {
      "text/html": [
       "<div>\n",
       "<style scoped>\n",
       "    .dataframe tbody tr th:only-of-type {\n",
       "        vertical-align: middle;\n",
       "    }\n",
       "\n",
       "    .dataframe tbody tr th {\n",
       "        vertical-align: top;\n",
       "    }\n",
       "\n",
       "    .dataframe thead th {\n",
       "        text-align: right;\n",
       "    }\n",
       "</style>\n",
       "<table border=\"1\" class=\"dataframe\">\n",
       "  <thead>\n",
       "    <tr style=\"text-align: right;\">\n",
       "      <th>OCDE</th>\n",
       "      <th>excluso</th>\n",
       "      <th>incluso</th>\n",
       "    </tr>\n",
       "    <tr>\n",
       "      <th>DESEMPREGO_QUALITATIVO</th>\n",
       "      <th></th>\n",
       "      <th></th>\n",
       "    </tr>\n",
       "  </thead>\n",
       "  <tbody>\n",
       "    <tr>\n",
       "      <th>MUITO BAIXO</th>\n",
       "      <td>21</td>\n",
       "      <td>15</td>\n",
       "    </tr>\n",
       "    <tr>\n",
       "      <th>BAIXO</th>\n",
       "      <td>29</td>\n",
       "      <td>15</td>\n",
       "    </tr>\n",
       "    <tr>\n",
       "      <th>MEDIO</th>\n",
       "      <td>8</td>\n",
       "      <td>1</td>\n",
       "    </tr>\n",
       "    <tr>\n",
       "      <th>ALTO</th>\n",
       "      <td>2</td>\n",
       "      <td>0</td>\n",
       "    </tr>\n",
       "    <tr>\n",
       "      <th>MUITO ALTO</th>\n",
       "      <td>2</td>\n",
       "      <td>0</td>\n",
       "    </tr>\n",
       "  </tbody>\n",
       "</table>\n",
       "</div>"
      ],
      "text/plain": [
       "OCDE                    excluso  incluso\n",
       "DESEMPREGO_QUALITATIVO                  \n",
       "MUITO BAIXO                  21       15\n",
       "BAIXO                        29       15\n",
       "MEDIO                         8        1\n",
       "ALTO                          2        0\n",
       "MUITO ALTO                    2        0"
      ]
     },
     "execution_count": 371,
     "metadata": {},
     "output_type": "execute_result"
    }
   ],
   "source": [
    "\n",
    "ct = pd.crosstab(tab.DESEMPREGO_QUALITATIVO, tab.OCDE)\n",
    "ctq= ct.reindex([\"MUITO BAIXO\",  \"BAIXO\", 'MEDIO', 'ALTO', 'MUITO ALTO'])\n",
    "ctq"
   ]
  },
  {
   "cell_type": "code",
   "execution_count": 372,
   "metadata": {},
   "outputs": [
    {
     "data": {
      "text/plain": [
       "<matplotlib.axes._subplots.AxesSubplot at 0x24191041ac8>"
      ]
     },
     "execution_count": 372,
     "metadata": {},
     "output_type": "execute_result"
    },
    {
     "data": {
      "image/png": "[encoded data removed]",
      "text/plain": [
       "<Figure size 432x288 with 1 Axes>"
      ]
     },
     "metadata": {},
     "output_type": "display_data"
    }
   ],
   "source": [
    "ct2= ctq.plot(kind='bar', color=('indigo', 'orange'),  legend=True)\n",
    "ct2"
   ]
  },
  {
   "cell_type": "code",
   "execution_count": 373,
   "metadata": {},
   "outputs": [
    {
     "name": "stderr",
     "output_type": "stream",
     "text": [
      "C:\\Users\\Roberto\\.anaconda2\\lib\\site-packages\\matplotlib\\figure.py:98: MatplotlibDeprecationWarning: \n",
      "Adding an axes using the same arguments as a previous axes currently reuses the earlier instance.  In a future version, a new instance will always be created and returned.  Meanwhile, this warning can be suppressed, and the future behavior ensured, by passing a unique label to each axes instance.\n",
      "  \"Adding an axes using the same arguments as a previous axes \"\n"
     ]
    },
    {
     "data": {
      "text/plain": [
       "<matplotlib.legend.Legend at 0x2418f75cd68>"
      ]
     },
     "execution_count": 373,
     "metadata": {},
     "output_type": "execute_result"
    },
    {
     "data": {
      "image/png": "[encoded data removed]",
      "text/plain": [
       "<Figure size 432x288 with 1 Axes>"
      ]
     },
     "metadata": {},
     "output_type": "display_data"
    }
   ],
   "source": [
    "def percConvert(tab):\n",
    "  return (tab/float(tab[-1])*100).round(decimals=0)\n",
    "\n",
    "ctq2=pd.crosstab(tab.DESEMPREGO_QUALITATIVO,tab.OCDE,margins=True,rownames=['RENDA'], colnames=['OCDE']).apply(percConvert, axis=0)\n",
    "ctq2 = ctq2.iloc[0:5,:]\n",
    "plot = ctq2.T.plot(kind='bar', stacked=True,title='ÍNDICE DE DESEMPREGO DOS INTEGRANTES E NÃO INTEGRANTES DA OCDE')\n",
    "plot.set_ylim([0, 100])\n",
    "plt.ylabel('Freq.Relativa (em%)')\n",
    "\n",
    "ax = plt.subplot(111)\n",
    "box = ax.get_position()\n",
    "ax.set_position([box.x0, box.y0, box.width * 0.8, box.height])\n",
    "ax.legend(loc='center left', bbox_to_anchor=(1, 0.5))"
   ]
  },
  {
   "cell_type": "markdown",
   "metadata": {},
   "source": [
    "**Análise dos gráficos:**\n",
    "\n",
    "Como observado na relação da renda dos países de dentro da OCDE e fora, o índice de desemprego também vai a favor ao objetivo da organização na qual seria a redução do índice do desemprego dos participantes.\n",
    "\n",
    "Já que fica claro que os países integrates da organização possuem na sua maioria um índice de desmprego \"muito baixo\" ou \"baixo\", com isso, de acordo com a hipótese levantada os países de dentro da OCDE como possuem uma renda equilibrada e um baixo índice de desemprego deveriam possuir uma quantidade maior de bilionários e menor de suicídios se relacionados aos países de fora da organização."
   ]
  },
  {
   "cell_type": "markdown",
   "metadata": {},
   "source": [
    "# Média do índice de bilionários dos integrantes da OCDE\n",
    "\n",
    "Para observar a diferença dos índices de bilionários de dentro e fora da organização foi realizada uma média do índice de bilionários"
   ]
  },
  {
   "cell_type": "code",
   "execution_count": 410,
   "metadata": {},
   "outputs": [
    {
     "name": "stdout",
     "output_type": "stream",
     "text": [
      "A média do índice de bilionários dos países integrantes da OCDE é: 2005_bln    0.380794\n",
      "dtype: float64\n"
     ]
    },
    {
     "data": {
      "text/html": [
       "<div>\n",
       "<style scoped>\n",
       "    .dataframe tbody tr th:only-of-type {\n",
       "        vertical-align: middle;\n",
       "    }\n",
       "\n",
       "    .dataframe tbody tr th {\n",
       "        vertical-align: top;\n",
       "    }\n",
       "\n",
       "    .dataframe thead th {\n",
       "        text-align: right;\n",
       "    }\n",
       "</style>\n",
       "<table border=\"1\" class=\"dataframe\">\n",
       "  <thead>\n",
       "    <tr style=\"text-align: right;\">\n",
       "      <th></th>\n",
       "      <th>OCDE</th>\n",
       "      <th>2005_bln</th>\n",
       "    </tr>\n",
       "    <tr>\n",
       "      <th>country</th>\n",
       "      <th></th>\n",
       "      <th></th>\n",
       "    </tr>\n",
       "  </thead>\n",
       "  <tbody>\n",
       "    <tr>\n",
       "      <th>Australia</th>\n",
       "      <td>incluso</td>\n",
       "      <td>0.2990</td>\n",
       "    </tr>\n",
       "    <tr>\n",
       "      <th>Austria</th>\n",
       "      <td>incluso</td>\n",
       "      <td>0.4890</td>\n",
       "    </tr>\n",
       "    <tr>\n",
       "      <th>Belgium</th>\n",
       "      <td>incluso</td>\n",
       "      <td>0.0965</td>\n",
       "    </tr>\n",
       "    <tr>\n",
       "      <th>Canada</th>\n",
       "      <td>incluso</td>\n",
       "      <td>0.5180</td>\n",
       "    </tr>\n",
       "    <tr>\n",
       "      <th>Chile</th>\n",
       "      <td>incluso</td>\n",
       "      <td>0.1880</td>\n",
       "    </tr>\n",
       "  </tbody>\n",
       "</table>\n",
       "</div>"
      ],
      "text/plain": [
       "              OCDE  2005_bln\n",
       "country                     \n",
       "Australia  incluso    0.2990\n",
       "Austria    incluso    0.4890\n",
       "Belgium    incluso    0.0965\n",
       "Canada     incluso    0.5180\n",
       "Chile      incluso    0.1880"
      ]
     },
     "execution_count": 410,
     "metadata": {},
     "output_type": "execute_result"
    }
   ],
   "source": [
    "\n",
    "tc=tab[tab.OCDE=='incluso'].iloc[:, [4, 2]]\n",
    "print('A média do índice de bilionários dos países integrantes da OCDE é:', tc.mean())\n",
    "tc.head()\n"
   ]
  },
  {
   "cell_type": "code",
   "execution_count": 411,
   "metadata": {},
   "outputs": [
    {
     "name": "stdout",
     "output_type": "stream",
     "text": [
      "A média do índice de bilionários dos países não integrantes da OCDE é: 2005_bln    0.043341\n",
      "dtype: float64\n"
     ]
    },
    {
     "data": {
      "text/html": [
       "<div>\n",
       "<style scoped>\n",
       "    .dataframe tbody tr th:only-of-type {\n",
       "        vertical-align: middle;\n",
       "    }\n",
       "\n",
       "    .dataframe tbody tr th {\n",
       "        vertical-align: top;\n",
       "    }\n",
       "\n",
       "    .dataframe thead th {\n",
       "        text-align: right;\n",
       "    }\n",
       "</style>\n",
       "<table border=\"1\" class=\"dataframe\">\n",
       "  <thead>\n",
       "    <tr style=\"text-align: right;\">\n",
       "      <th></th>\n",
       "      <th>OCDE</th>\n",
       "      <th>2005_bln</th>\n",
       "    </tr>\n",
       "    <tr>\n",
       "      <th>country</th>\n",
       "      <th></th>\n",
       "      <th></th>\n",
       "    </tr>\n",
       "  </thead>\n",
       "  <tbody>\n",
       "    <tr>\n",
       "      <th>Afghanistan</th>\n",
       "      <td>excluso</td>\n",
       "      <td>0.0000</td>\n",
       "    </tr>\n",
       "    <tr>\n",
       "      <th>Albania</th>\n",
       "      <td>excluso</td>\n",
       "      <td>0.0000</td>\n",
       "    </tr>\n",
       "    <tr>\n",
       "      <th>Algeria</th>\n",
       "      <td>excluso</td>\n",
       "      <td>0.0000</td>\n",
       "    </tr>\n",
       "    <tr>\n",
       "      <th>Angola</th>\n",
       "      <td>excluso</td>\n",
       "      <td>0.0000</td>\n",
       "    </tr>\n",
       "    <tr>\n",
       "      <th>Argentina</th>\n",
       "      <td>excluso</td>\n",
       "      <td>0.0253</td>\n",
       "    </tr>\n",
       "  </tbody>\n",
       "</table>\n",
       "</div>"
      ],
      "text/plain": [
       "                OCDE  2005_bln\n",
       "country                       \n",
       "Afghanistan  excluso    0.0000\n",
       "Albania      excluso    0.0000\n",
       "Algeria      excluso    0.0000\n",
       "Angola       excluso    0.0000\n",
       "Argentina    excluso    0.0253"
      ]
     },
     "execution_count": 411,
     "metadata": {},
     "output_type": "execute_result"
    }
   ],
   "source": [
    "\n",
    "tc2=tab[tab.OCDE=='excluso'].iloc[:, [4, 2]]\n",
    "print('A média do índice de bilionários dos países não integrantes da OCDE é:', tc2.mean())\n",
    "tc2.head()"
   ]
  },
  {
   "cell_type": "markdown",
   "metadata": {},
   "source": [
    "**Análise dos gráficos**\n",
    "\n",
    "Observando o índice de bilionários e a média desse índice de acordo com a tabela acima, fica claro que os integrantes da OCDE possuem um grande número de bilionários relacionado aos não integrantes da organização, concluindo a hipótese de que a OCDE realmente preza pelo equilibrio econômico dos seus integrantes, e se um país se tornar integrante desta organização tenderá a possuir uma estabilidade econômica."
   ]
  },
  {
   "cell_type": "markdown",
   "metadata": {},
   "source": [
    "# Média dos suicídios dos integrantes da OCDE\n",
    "\n",
    "Para observar a diferença do número de suicídios de dentro e fora da organização foi realizada uma média do número de suicídios."
   ]
  },
  {
   "cell_type": "code",
   "execution_count": 412,
   "metadata": {},
   "outputs": [
    {
     "name": "stdout",
     "output_type": "stream",
     "text": [
      "A média do número de suicídios dos países integrantes da OCDE é: 2005_scd    5245.577419\n",
      "dtype: float64\n"
     ]
    },
    {
     "data": {
      "text/html": [
       "<div>\n",
       "<style scoped>\n",
       "    .dataframe tbody tr th:only-of-type {\n",
       "        vertical-align: middle;\n",
       "    }\n",
       "\n",
       "    .dataframe tbody tr th {\n",
       "        vertical-align: top;\n",
       "    }\n",
       "\n",
       "    .dataframe thead th {\n",
       "        text-align: right;\n",
       "    }\n",
       "</style>\n",
       "<table border=\"1\" class=\"dataframe\">\n",
       "  <thead>\n",
       "    <tr style=\"text-align: right;\">\n",
       "      <th></th>\n",
       "      <th>OCDE</th>\n",
       "      <th>2005_scd</th>\n",
       "    </tr>\n",
       "    <tr>\n",
       "      <th>country</th>\n",
       "      <th></th>\n",
       "      <th></th>\n",
       "    </tr>\n",
       "  </thead>\n",
       "  <tbody>\n",
       "    <tr>\n",
       "      <th>Australia</th>\n",
       "      <td>incluso</td>\n",
       "      <td>2430.0</td>\n",
       "    </tr>\n",
       "    <tr>\n",
       "      <th>Austria</th>\n",
       "      <td>incluso</td>\n",
       "      <td>1520.0</td>\n",
       "    </tr>\n",
       "    <tr>\n",
       "      <th>Belgium</th>\n",
       "      <td>incluso</td>\n",
       "      <td>2250.0</td>\n",
       "    </tr>\n",
       "    <tr>\n",
       "      <th>Canada</th>\n",
       "      <td>incluso</td>\n",
       "      <td>4260.0</td>\n",
       "    </tr>\n",
       "    <tr>\n",
       "      <th>Chile</th>\n",
       "      <td>incluso</td>\n",
       "      <td>1960.0</td>\n",
       "    </tr>\n",
       "  </tbody>\n",
       "</table>\n",
       "</div>"
      ],
      "text/plain": [
       "              OCDE  2005_scd\n",
       "country                     \n",
       "Australia  incluso    2430.0\n",
       "Austria    incluso    1520.0\n",
       "Belgium    incluso    2250.0\n",
       "Canada     incluso    4260.0\n",
       "Chile      incluso    1960.0"
      ]
     },
     "execution_count": 412,
     "metadata": {},
     "output_type": "execute_result"
    }
   ],
   "source": [
    "\n",
    "tc3=tab[tab.OCDE=='incluso'].iloc[:, [4, 3]]\n",
    "print('A média do número de suicídios dos países integrantes da OCDE é:', tc3.mean())\n",
    "tc3.head()"
   ]
  },
  {
   "cell_type": "code",
   "execution_count": 413,
   "metadata": {},
   "outputs": [
    {
     "name": "stdout",
     "output_type": "stream",
     "text": [
      "A média do número de suicídios dos países não integrantes da OCDE é: 2005_scd    4867.4\n",
      "dtype: float64\n"
     ]
    },
    {
     "data": {
      "text/html": [
       "<div>\n",
       "<style scoped>\n",
       "    .dataframe tbody tr th:only-of-type {\n",
       "        vertical-align: middle;\n",
       "    }\n",
       "\n",
       "    .dataframe tbody tr th {\n",
       "        vertical-align: top;\n",
       "    }\n",
       "\n",
       "    .dataframe thead th {\n",
       "        text-align: right;\n",
       "    }\n",
       "</style>\n",
       "<table border=\"1\" class=\"dataframe\">\n",
       "  <thead>\n",
       "    <tr style=\"text-align: right;\">\n",
       "      <th></th>\n",
       "      <th>OCDE</th>\n",
       "      <th>2005_scd</th>\n",
       "    </tr>\n",
       "    <tr>\n",
       "      <th>country</th>\n",
       "      <th></th>\n",
       "      <th></th>\n",
       "    </tr>\n",
       "  </thead>\n",
       "  <tbody>\n",
       "    <tr>\n",
       "      <th>Afghanistan</th>\n",
       "      <td>excluso</td>\n",
       "      <td>1600.0</td>\n",
       "    </tr>\n",
       "    <tr>\n",
       "      <th>Albania</th>\n",
       "      <td>excluso</td>\n",
       "      <td>204.0</td>\n",
       "    </tr>\n",
       "    <tr>\n",
       "      <th>Algeria</th>\n",
       "      <td>excluso</td>\n",
       "      <td>1210.0</td>\n",
       "    </tr>\n",
       "    <tr>\n",
       "      <th>Angola</th>\n",
       "      <td>excluso</td>\n",
       "      <td>980.0</td>\n",
       "    </tr>\n",
       "    <tr>\n",
       "      <th>Argentina</th>\n",
       "      <td>excluso</td>\n",
       "      <td>4470.0</td>\n",
       "    </tr>\n",
       "  </tbody>\n",
       "</table>\n",
       "</div>"
      ],
      "text/plain": [
       "                OCDE  2005_scd\n",
       "country                       \n",
       "Afghanistan  excluso    1600.0\n",
       "Albania      excluso     204.0\n",
       "Algeria      excluso    1210.0\n",
       "Angola       excluso     980.0\n",
       "Argentina    excluso    4470.0"
      ]
     },
     "execution_count": 413,
     "metadata": {},
     "output_type": "execute_result"
    }
   ],
   "source": [
    "\n",
    "tc5=tab[tab.OCDE=='excluso'].iloc[:, [4, 3]]\n",
    "print('A média do número de suicídios dos países não integrantes da OCDE é:', tc5.mean())\n",
    "tc5.head()"
   ]
  },
  {
   "cell_type": "markdown",
   "metadata": {},
   "source": [
    "**Análise dos gráficos:**\n",
    "\n",
    "Explicitando as médias do número de suicídios dos países integrantes e não integrantes da OCDE observa-se um contraponto com disrespeito a hipótese levantada previamente, já que a média de suicídios dos integrantes da organização é maior que a dos países de fora do bloco.\n",
    "\n",
    "Diante disso, levamos em consideração que os suicídios não se relacionam da forma esperada, onde no senso comum um país com uma econômia equilibrada e com um baixo índice de desemprego a hipótese seria de que o número de suicídios diminuiria, já que o país teria \"menos motivos\" para ter um alto índice de suicídios."
   ]
  },
  {
   "cell_type": "markdown",
   "metadata": {},
   "source": [
    "## Conlusão"
   ]
  },
  {
   "cell_type": "markdown",
   "metadata": {},
   "source": [
    "**Pergunta: Os países que se integraram ao OCDE (Organização para Cooperação e Desenvolvimento Econômico) aumentaram o número de bilionários e dimínuiram o número de suicídios em suas províncias relacionados aos países de fora do bloco?**\n",
    "\n",
    "De acordo com os dados observados obteve-se uma quebra de expectativa diante da hipótese levantada. Na questão do aumento do índice de bilionários a hipótese foi coerente, onde a média do índice de bilionários entre os integrantes da OCDE foi maior que os não integrantes da organização.\n",
    "\n",
    "Todavia, no âmbito do número dos suicídios a hipótese não foi coerente contrapondo a hipótese estipulada, na ocasião o número de suicídios entre os integrantes da organização foi enorme e a média desses suiícidios foi maior que a dos países fora do bloco, portanto diante deste ponto de vista não é possível concluir a hipótese levantada.\n",
    "\n",
    "Então, respondedo a pergunta, os países integrantes da OCDE tendem sim a aumentar o índice de bilionários em seus países, mas por outro lado tendem a aumentar também o número de suicídios em suas províncias relacionados aos países de fora do bloco."
   ]
  },
  {
   "cell_type": "markdown",
   "metadata": {},
   "source": [
    "*Um estudo realizado sobre esse paradoxo do aumento do número de suicídios:*https://www.bbc.com/portuguese/ciencia/2011/04/110426_felicidade_suicidio_mv"
   ]
  }
 ],
 "metadata": {
  "kernelspec": {
   "display_name": "Python 3",
   "language": "python",
   "name": "python3"
  },
  "language_info": {
   "codemirror_mode": {
    "name": "ipython",
    "version": 3
   },
   "file_extension": ".py",
   "mimetype": "text/x-python",
   "name": "python",
   "nbconvert_exporter": "python",
   "pygments_lexer": "ipython3",
   "version": "3.7.1"
  }
 },
 "nbformat": 4,
 "nbformat_minor": 2
}
